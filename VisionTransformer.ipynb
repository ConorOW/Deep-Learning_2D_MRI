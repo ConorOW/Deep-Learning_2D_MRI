{
 "cells": [
  {
   "cell_type": "markdown",
   "metadata": {},
   "source": [
    "# Using a pretrained Vision Transformer to diagnose Alzheimer's disease from a 2D slice of an MRI scan\n",
    "We are going to build our vision transformer using PyTorch, so we will need to import the library and some other important packages."
   ]
  },
  {
   "cell_type": "code",
   "execution_count": 1,
   "metadata": {
    "colab": {
     "base_uri": "https://localhost:8080/"
    },
    "id": "39_bAtOyPoIA",
    "outputId": "e26e2f93-609a-423e-a5c5-d8cf521700dc"
   },
   "outputs": [
    {
     "name": "stderr",
     "output_type": "stream",
     "text": [
      "/opt/anaconda3/envs/huggingface_env/lib/python3.9/site-packages/tqdm/auto.py:21: TqdmWarning: IProgress not found. Please update jupyter and ipywidgets. See https://ipywidgets.readthedocs.io/en/stable/user_install.html\n",
      "  from .autonotebook import tqdm as notebook_tqdm\n"
     ]
    },
    {
     "name": "stdout",
     "output_type": "stream",
     "text": [
      "Using device: cpu\n"
     ]
    }
   ],
   "source": [
    "# Vision Transformer Code for Training and Testing on MRI Images\n",
    "\n",
    "# Chunk 1: Import Required Libraries\n",
    "import os\n",
    "import numpy as np\n",
    "from pathlib import Path\n",
    "from PIL import Image\n",
    "import torch\n",
    "import torch.nn as nn\n",
    "import torch.optim as optim\n",
    "from torchvision import transforms\n",
    "from torch.utils.data import DataLoader, Dataset\n",
    "from sklearn.metrics import classification_report\n",
    "from timm.models.vision_transformer import vit_base_patch16_224_in21k\n",
    "\n",
    "# Verify GPU availability\n",
    "device = torch.device(\"cuda\" if torch.cuda.is_available() else \"cpu\")\n",
    "print(f\"Using device: {device}\")"
   ]
  },
  {
   "cell_type": "markdown",
   "metadata": {},
   "source": [
    "### Chunk 2: Dataset Preparation"
   ]
  },
  {
   "cell_type": "code",
   "execution_count": 2,
   "metadata": {},
   "outputs": [
    {
     "name": "stdout",
     "output_type": "stream",
     "text": [
      "Loaded 653 training samples and 247 testing samples.\n"
     ]
    }
   ],
   "source": [
    "# Defines a PyTorch dataset for loading and preprocessing MRI image data\n",
    "class MRIDataset(Dataset):\n",
    "    def __init__(self, root_dir, transform=None):\n",
    "        self.root_dir = Path(root_dir)\n",
    "        self.transform = transform\n",
    "        self.image_paths = [path for path in self.root_dir.glob(\"**/*.png\") if path.is_file()]\n",
    "        self.labels = [0 if \"HC\" in str(path.parent) else 1 for path in self.image_paths]  # 0: HC, 1: AD\n",
    "\n",
    "    def __len__(self):\n",
    "        return len(self.image_paths)\n",
    "\n",
    "    def __getitem__(self, idx):\n",
    "        img_path = self.image_paths[idx]\n",
    "        label = self.labels[idx]\n",
    "        image = Image.open(img_path).convert(\"RGB\")\n",
    "        if self.transform:\n",
    "            image = self.transform(image)\n",
    "        return image, label\n",
    "\n",
    "# Define transformations\n",
    "transform = transforms.Compose([\n",
    "    transforms.Resize((224, 224)),\n",
    "    transforms.ToTensor(),\n",
    "    transforms.Normalize(mean=[0.5, 0.5, 0.5], std=[0.5, 0.5, 0.5])\n",
    "])\n",
    "\n",
    "# Load datasets\n",
    "train_dataset = MRIDataset(root_dir=\"MRI/train\", transform=transform)\n",
    "test_dataset = MRIDataset(root_dir=\"MRI/test\", transform=transform)\n",
    "\n",
    "# Create DataLoaders\n",
    "train_loader = DataLoader(train_dataset, batch_size=16, shuffle=True, num_workers=0)\n",
    "test_loader = DataLoader(test_dataset, batch_size=16, shuffle=False, num_workers=0)\n",
    "\n",
    "print(f\"Loaded {len(train_dataset)} training samples and {len(test_dataset)} testing samples.\")"
   ]
  },
  {
   "cell_type": "markdown",
   "metadata": {},
   "source": [
    "### Chunk 3: Define the Vision Transformer Model"
   ]
  },
  {
   "cell_type": "code",
   "execution_count": 3,
   "metadata": {},
   "outputs": [
    {
     "name": "stderr",
     "output_type": "stream",
     "text": [
      "/var/folders/qr/pvnm2ntd1gq89m73p8vhvccc0000gn/T/ipykernel_54361/1118417850.py:2: UserWarning: Mapping deprecated model name vit_base_patch16_224_in21k to current vit_base_patch16_224.augreg_in21k.\n",
      "  model = vit_base_patch16_224_in21k(pretrained=True)\n"
     ]
    },
    {
     "name": "stdout",
     "output_type": "stream",
     "text": [
      "Model defined and ready for training!\n"
     ]
    }
   ],
   "source": [
    "# Load pre-trained Vision Transformer\n",
    "model = vit_base_patch16_224_in21k(pretrained=True)\n",
    "\n",
    "# Modify the classifier head for binary classification\n",
    "model.head = nn.Sequential(\n",
    "    nn.Linear(model.head.in_features, 128),\n",
    "    nn.ReLU(),\n",
    "    nn.Dropout(0.3),\n",
    "    nn.Linear(128, 2)\n",
    ")\n",
    "\n",
    "model = model.to(device)\n",
    "\n",
    "# Define the loss function and optimizer\n",
    "criterion = nn.CrossEntropyLoss()\n",
    "optimizer = optim.Adam(model.parameters(), lr=1e-4)\n",
    "\n",
    "print(\"Model defined and ready for training!\")"
   ]
  },
  {
   "cell_type": "markdown",
   "metadata": {},
   "source": [
    "### Chunk 4: Training Loop"
   ]
  },
  {
   "cell_type": "code",
   "execution_count": 4,
   "metadata": {},
   "outputs": [
    {
     "name": "stdout",
     "output_type": "stream",
     "text": [
      "Starting training...\n",
      "Epoch 1/6, Loss: 0.6166, Accuracy: 65.54%\n",
      "Model saved as vision_transformer_epoch_1.pth\n",
      "Epoch 2/6, Loss: 0.4911, Accuracy: 77.34%\n",
      "Model saved as vision_transformer_epoch_2.pth\n",
      "Epoch 3/6, Loss: 0.3579, Accuracy: 86.06%\n",
      "Model saved as vision_transformer_epoch_3.pth\n",
      "Epoch 4/6, Loss: 0.3182, Accuracy: 86.52%\n",
      "Model saved as vision_transformer_epoch_4.pth\n",
      "Epoch 5/6, Loss: 0.2693, Accuracy: 88.36%\n",
      "Model saved as vision_transformer_epoch_5.pth\n",
      "Epoch 6/6, Loss: 0.2745, Accuracy: 88.82%\n",
      "Model saved as vision_transformer_epoch_6.pth\n"
     ]
    }
   ],
   "source": [
    "# Chunk 4: Training Loop\n",
    "num_epochs = 6\n",
    "train_accuracies = []\n",
    "\n",
    "def train_model():\n",
    "    model.train()\n",
    "    for epoch in range(num_epochs):\n",
    "        running_loss = 0.0\n",
    "        correct = 0\n",
    "        total = 0\n",
    "        for images, labels in train_loader:\n",
    "            images, labels = images.to(device), labels.to(device)\n",
    "\n",
    "            # Forward pass\n",
    "            outputs = model(images)\n",
    "            loss = criterion(outputs, labels)\n",
    "\n",
    "            # Backward pass and optimization\n",
    "            optimizer.zero_grad()\n",
    "            loss.backward()\n",
    "            optimizer.step()\n",
    "\n",
    "            # Metrics\n",
    "            running_loss += loss.item()\n",
    "            _, predicted = torch.max(outputs, 1)\n",
    "            total += labels.size(0)\n",
    "            correct += (predicted == labels).sum().item()\n",
    "\n",
    "        epoch_loss = running_loss / len(train_loader)\n",
    "        epoch_acc = 100 * correct / total\n",
    "        train_accuracies.append(epoch_acc)\n",
    "        print(f\"Epoch {epoch+1}/{num_epochs}, Loss: {epoch_loss:.4f}, Accuracy: {epoch_acc:.2f}%\")\n",
    "\n",
    "        # Save the model after each epoch\n",
    "        torch.save(model.state_dict(), f\"vision_transformer_epoch_{epoch+1}.pth\")\n",
    "        print(f\"Model saved as vision_transformer_epoch_{epoch+1}.pth\")\n",
    "\n",
    "print(\"Starting training...\")\n",
    "train_model()"
   ]
  },
  {
   "cell_type": "markdown",
   "metadata": {},
   "source": [
    "### Chunk 6: Plot Training Accuracy"
   ]
  },
  {
   "cell_type": "code",
   "execution_count": 5,
   "metadata": {},
   "outputs": [
    {
     "data": {
      "image/png": "[encoded data removed]",
      "text/plain": [
       "<Figure size 1000x600 with 1 Axes>"
      ]
     },
     "metadata": {},
     "output_type": "display_data"
    }
   ],
   "source": [
    "import matplotlib.pyplot as plt\n",
    "\n",
    "# Plot our accuracy\n",
    "def plot_training_accuracy():\n",
    "    plt.figure(figsize=(10, 6))\n",
    "    plt.plot(range(1, num_epochs + 1), train_accuracies, marker='o', linestyle='-', color='b')\n",
    "    plt.title(\"Training Accuracy Over Epochs\")\n",
    "    plt.xlabel(\"Epoch\")\n",
    "    plt.ylabel(\"Accuracy (%)\")\n",
    "    plt.grid(True)\n",
    "    plt.show()\n",
    "\n",
    "# Call this function after training to visualize accuracy\n",
    "plot_training_accuracy()"
   ]
  },
  {
   "cell_type": "code",
   "execution_count": null,
   "metadata": {},
   "outputs": [],
   "source": []
  }
 ],
 "metadata": {
  "colab": {
   "provenance": []
  },
  "kernelspec": {
   "display_name": "Huggingface Environment",
   "language": "python",
   "name": "huggingface_env"
  },
  "language_info": {
   "codemirror_mode": {
    "name": "ipython",
    "version": 3
   },
   "file_extension": ".py",
   "mimetype": "text/x-python",
   "name": "python",
   "nbconvert_exporter": "python",
   "pygments_lexer": "ipython3",
   "version": "3.9.20"
  }
 },
 "nbformat": 4,
 "nbformat_minor": 4
}
